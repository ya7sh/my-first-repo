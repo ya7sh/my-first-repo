{
  "nbformat": 4,
  "nbformat_minor": 0,
  "metadata": {
    "colab": {
      "provenance": [],
      "mount_file_id": "1vY3pqkC-rTqK5OhjokPzAKqTmUsjf6QH",
      "authorship_tag": "ABX9TyODdStpvVUJXJrDrX+QsUN/",
      "include_colab_link": true
    },
    "kernelspec": {
      "name": "python3",
      "display_name": "Python 3"
    },
    "language_info": {
      "name": "python"
    }
  },
  "cells": [
    {
      "cell_type": "markdown",
      "metadata": {
        "id": "view-in-github",
        "colab_type": "text"
      },
      "source": [
        "<a href=\"https://colab.research.google.com/github/ya7sh/my-first-repo/blob/master/PS1.ipynb\" target=\"_parent\"><img src=\"https://colab.research.google.com/assets/colab-badge.svg\" alt=\"Open In Colab\"/></a>"
      ]
    },
    {
      "cell_type": "code",
      "execution_count": 11,
      "metadata": {
        "colab": {
          "base_uri": "https://localhost:8080/"
        },
        "id": "Lz9YOxenV5Ku",
        "outputId": "d150e41a-f573-44fb-bcfb-60b7ebd478a2"
      },
      "outputs": [
        {
          "output_type": "stream",
          "name": "stdout",
          "text": [
            "Average value: 86.4\n"
          ]
        }
      ],
      "source": [
        "import pandas as pd\n",
        "path='/content/drive/MyDrive/student_data.csv'\n",
        "df= pd.read_csv(path)\n",
        "c='Marks'\n",
        "avg = df[c].mean()\n",
        "if avg is not None:\n",
        "  print(f\"Average value: {avg}\")"
      ]
    },
    {
      "cell_type": "code",
      "source": [
        "import pandas as pd\n",
        "path='/content/drive/MyDrive/student_data.csv'\n",
        "df= pd.read_csv(path)\n",
        "c='Marks'\n",
        "avg = df[c].mean()\n",
        "hs=df[c].max()\n",
        "l= df[c].min()\n",
        "print(f\"Average marks: {avg}\")\n",
        "print(f\"Highest marks: {hs}\")\n",
        "print(f\"Lowest marks: {l}\")"
      ],
      "metadata": {
        "colab": {
          "base_uri": "https://localhost:8080/"
        },
        "id": "gTzZu4aibWCI",
        "outputId": "a19d5f41-1852-4ffc-aa75-d4637c6283b0"
      },
      "execution_count": 12,
      "outputs": [
        {
          "output_type": "stream",
          "name": "stdout",
          "text": [
            "Average marks: 86.4\n",
            "Highest marks: 92\n",
            "Lowest marks: 78\n"
          ]
        }
      ]
    },
    {
      "cell_type": "code",
      "source": [
        "import pandas as pd\n",
        "path='/content/drive/MyDrive/employee_data.csv'\n",
        "df= pd.read_csv(path)\n",
        "new_csv=df[['Name','Email']]\n",
        "newp='/content/drive/MyDrive/new_employee_data.csv'\n",
        "new_csv.to_csv(newp,index=False)\n",
        "print(\"New CSV file created\")"
      ],
      "metadata": {
        "colab": {
          "base_uri": "https://localhost:8080/"
        },
        "id": "FV9xnnePmOKK",
        "outputId": "2bf9cc53-143a-4f14-e643-802adb1ff460"
      },
      "execution_count": 16,
      "outputs": [
        {
          "output_type": "stream",
          "name": "stdout",
          "text": [
            "New CSV file created\n"
          ]
        }
      ]
    }
  ]
}