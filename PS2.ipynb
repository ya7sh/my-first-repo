{
  "nbformat": 4,
  "nbformat_minor": 0,
  "metadata": {
    "colab": {
      "provenance": [],
      "mount_file_id": "16RGU66PtHNyMFl82Kb5YcVFy8Tzfgxjh",
      "authorship_tag": "ABX9TyPnLFUIzBpHAWRmcojFKZ5U",
      "include_colab_link": true
    },
    "kernelspec": {
      "name": "python3",
      "display_name": "Python 3"
    },
    "language_info": {
      "name": "python"
    }
  },
  "cells": [
    {
      "cell_type": "markdown",
      "metadata": {
        "id": "view-in-github",
        "colab_type": "text"
      },
      "source": [
        "<a href=\"https://colab.research.google.com/github/ya7sh/my-first-repo/blob/master/PS2.ipynb\" target=\"_parent\"><img src=\"https://colab.research.google.com/assets/colab-badge.svg\" alt=\"Open In Colab\"/></a>"
      ]
    },
    {
      "cell_type": "code",
      "execution_count": 1,
      "metadata": {
        "colab": {
          "base_uri": "https://localhost:8080/"
        },
        "id": "hCRVdM2co1RJ",
        "outputId": "4c6f64ef-44f3-4d3f-ad84-0155f02c10e2"
      },
      "outputs": [
        {
          "output_type": "stream",
          "name": "stdout",
          "text": [
            "The parking spot cv12 has been booked succesfully\n"
          ]
        }
      ],
      "source": [
        "import pandas as pd\n",
        "path='/content/drive/MyDrive/parking_spot.csv'\n",
        "df= pd.read_csv(path)\n",
        "def book(path,id):\n",
        "  sp=df[df['Spot ID']==id]\n",
        "  avl=sp['Availability Status'].values[0]\n",
        "  occ=sp['current occupancy'].values[0]\n",
        "\n",
        "  if avl=='available' and occ==0:\n",
        "    df.loc[df['Spot ID']==id, 'Avilability Status']='booked'\n",
        "    df.to_csv(path, index=False)\n",
        "    print(f\"The parking spot {id} has been booked succesfully\")\n",
        "    return True\n",
        "  else:\n",
        "    print(f\"The parking spot {id} is not currently available for booking\")\n",
        "    return False\n",
        "\n",
        "id='cv12'\n",
        "booking=book(path,id)"
      ]
    },
    {
      "cell_type": "code",
      "source": [
        "from google.colab import drive\n",
        "drive.mount('/content/drive')"
      ],
      "metadata": {
        "id": "FCGpedm-wLlo"
      },
      "execution_count": null,
      "outputs": []
    }
  ]
}